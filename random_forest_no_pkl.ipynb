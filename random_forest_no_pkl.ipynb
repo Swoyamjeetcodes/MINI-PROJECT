{
 "cells": [
  {
   "cell_type": "markdown",
   "id": "4df8a150",
   "metadata": {},
   "source": [
    "# Random Forest Model for Compiler Optimization Flags\n",
    "This notebook trains a Random Forest model **without saving/loading a `.pkl` file`. It predicts the best compiler flag for a given C program based on its structural features."
   ]
  },
  {
   "cell_type": "code",
   "execution_count": 3,
   "id": "f6a8c3ad",
   "metadata": {},
   "outputs": [],
   "source": [
    "import pandas as pd\n",
    "import numpy as np\n",
    "import subprocess\n",
    "import os\n",
    "import time\n",
    "from sklearn.model_selection import train_test_split\n",
    "from sklearn.ensemble import RandomForestClassifier\n",
    "from sklearn.metrics import accuracy_score"
   ]
  },
  {
   "cell_type": "markdown",
   "id": "79dab9fe",
   "metadata": {},
   "source": [
    "## Load Dataset"
   ]
  },
  {
   "cell_type": "code",
   "execution_count": 4,
   "id": "9895af15",
   "metadata": {},
   "outputs": [],
   "source": [
    "# Load dataset\n",
    "df = pd.read_csv(\"features.csv\")  # Change to actual dataset path\n",
    "\n",
    "# Extract features and labels\n",
    "X = df[['LOC', 'ForLoops', 'WhileLoops', 'IfStatements']]\n",
    "y = df['BestFlag']"
   ]
  },
  {
   "cell_type": "markdown",
   "id": "41fa8eed",
   "metadata": {},
   "source": [
    "## Train Random Forest Model (No .pkl Saving)"
   ]
  },
  {
   "cell_type": "code",
   "execution_count": 5,
   "id": "da552a17",
   "metadata": {},
   "outputs": [
    {
     "name": "stdout",
     "output_type": "stream",
     "text": [
      "Accuracy: 19.21%\n"
     ]
    }
   ],
   "source": [
    "# Train-test split\n",
    "X_train, X_test, y_train, y_test = train_test_split(X, y, test_size=0.2, random_state=42)\n",
    "\n",
    "# Train Random Forest model\n",
    "rf_model = RandomForestClassifier(n_estimators=100, random_state=42)\n",
    "rf_model.fit(X_train, y_train)\n",
    "\n",
    "# Evaluate model\n",
    "preds = rf_model.predict(X_test)\n",
    "print(f\"Accuracy: {accuracy_score(y_test, preds) * 100:.2f}%\")"
   ]
  },
  {
   "cell_type": "markdown",
   "id": "8401658a",
   "metadata": {},
   "source": [
    "## Feature Extraction from C Code"
   ]
  },
  {
   "cell_type": "code",
   "execution_count": 6,
   "id": "d4f9e8ee",
   "metadata": {},
   "outputs": [],
   "source": [
    "def extract_features_from_c(code_path):\n",
    "    with open(code_path, \"r\") as file:\n",
    "        code = file.readlines()\n",
    "    \n",
    "    loc = len(code)\n",
    "    for_loops = sum(1 for line in code if 'for' in line)\n",
    "    while_loops = sum(1 for line in code if 'while' in line)\n",
    "    if_statements = sum(1 for line in code if 'if' in line)\n",
    "    \n",
    "    return np.array([[loc, for_loops, while_loops, if_statements]])"
   ]
  },
  {
   "cell_type": "markdown",
   "id": "e794a7b2",
   "metadata": {},
   "source": [
    "## Measuring Execution Time"
   ]
  },
  {
   "cell_type": "code",
   "execution_count": 7,
   "id": "1b5b5268",
   "metadata": {},
   "outputs": [],
   "source": [
    "def measure_exec_time(code_path, flag):\n",
    "    binary_path = \"a.out\"\n",
    "    compile_cmd = f\"clang {flag} {code_path} -o {binary_path}\"\n",
    "    subprocess.run(compile_cmd, shell=True, stdout=subprocess.DEVNULL, stderr=subprocess.DEVNULL)\n",
    "    \n",
    "    start_time = time.time()\n",
    "    subprocess.run(f\"./{binary_path}\", shell=True, stdout=subprocess.DEVNULL, stderr=subprocess.DEVNULL)\n",
    "    exec_time = time.time() - start_time\n",
    "    os.remove(binary_path)\n",
    "    \n",
    "    return exec_time"
   ]
  },
  {
   "cell_type": "markdown",
   "id": "7593196d",
   "metadata": {},
   "source": [
    "## Predicting the Best Compiler Flag"
   ]
  },
  {
   "cell_type": "code",
   "execution_count": 8,
   "id": "dc709d01",
   "metadata": {},
   "outputs": [],
   "source": [
    "def predict_best_flag(code_path):\n",
    "    features = extract_features_from_c(code_path)\n",
    "    print(\"Extracted Features:\", features)\n",
    "    \n",
    "    best_flag = rf_model.predict(features)[0]\n",
    "    print(\"Predicted Best Flag:\", best_flag)\n",
    "    \n",
    "    exec_time_before = measure_exec_time(code_path, \"-O0\")\n",
    "    print(f\"Execution Time Before (-O0): {exec_time_before:.6f} sec\")\n",
    "\n",
    "    exec_time_after = measure_exec_time(code_path, best_flag)\n",
    "    print(f\"Execution Time After ({best_flag}): {exec_time_after:.6f} sec\")\n",
    "\n",
    "    improvement = (exec_time_before - exec_time_after) / exec_time_before * 100\n",
    "    print(f\"Performance Improvement: {improvement:.2f}%\")\n",
    "    \n",
    "    return best_flag"
   ]
  },
  {
   "cell_type": "markdown",
   "id": "1536a3de",
   "metadata": {},
   "source": [
    "## Example Usage"
   ]
  },
  {
   "cell_type": "code",
   "execution_count": 9,
   "id": "7db1f29e",
   "metadata": {},
   "outputs": [],
   "source": [
    "# predict_best_flag(\"example_c_files__for_model/program_1.c\")  # Change to actual C file path"
   ]
  }
 ],
 "metadata": {
  "kernelspec": {
   "display_name": "Python 3 (ipykernel)",
   "language": "python",
   "name": "python3"
  },
  "language_info": {
   "codemirror_mode": {
    "name": "ipython",
    "version": 3
   },
   "file_extension": ".py",
   "mimetype": "text/x-python",
   "name": "python",
   "nbconvert_exporter": "python",
   "pygments_lexer": "ipython3",
   "version": "3.12.9"
  }
 },
 "nbformat": 4,
 "nbformat_minor": 5
}
