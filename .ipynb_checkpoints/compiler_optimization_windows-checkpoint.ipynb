{
  "cells": [
    {
      "cell_type": "code",
      "execution_count": 10,
      "id": "6af98db2-44b5-4346-a8a7-e77c0a46e8d2",
      "metadata": {
        "colab": {
          "base_uri": "https://localhost:8080/"
        },
        "id": "6af98db2-44b5-4346-a8a7-e77c0a46e8d2",
        "outputId": "a5a75d0a-83b4-45dc-cf0d-4f1a293fb304"
      },
      "outputs": [
        {
          "output_type": "stream",
          "name": "stdout",
          "text": [
            "Reading package lists... Done\n",
            "Building dependency tree... Done\n",
            "Reading state information... Done\n",
            "gcc is already the newest version (4:11.2.0-1ubuntu1).\n",
            "0 upgraded, 0 newly installed, 0 to remove and 29 not upgraded.\n",
            "Predicted best optimization flag: -O3\n",
            "Execution Time without Optimization: 0.0017s\n",
            "Execution Time with -O3: 0.0017s\n",
            "Performance Improvement: -0.14%\n"
          ]
        }
      ],
      "source": [
        "import subprocess\n",
        "import numpy as np\n",
        "from sklearn.ensemble import RandomForestClassifier\n",
        "import time\n",
        "\n",
        "# Ensure GCC is installed in Colab\n",
        "!apt-get install gcc\n",
        "\n",
        "# File names\n",
        "file_name = \"/content/example.c\"\n",
        "preprocessed_file = \"/content/preprocessed.c\"\n",
        "\n",
        "# Dummy training data for ML model\n",
        "X_train = np.array([[5, 2], [50, 5], [100, 10], [200, 20], [300, 30]])\n",
        "y_train = np.array(['-O1', '-O1', '-O1', '-O2', '-O3'])\n",
        "\n",
        "# Train simple ML model\n",
        "model = RandomForestClassifier()\n",
        "model.fit(X_train, y_train)\n",
        "\n",
        "def extract_features_from_code(code):\n",
        "    \"\"\"Extract features from C code: number of lines and loops.\"\"\"\n",
        "    lines = len(code.split('\\n'))\n",
        "    loops = code.count('for') + code.count('while')\n",
        "    return [lines, loops]\n",
        "\n",
        "def preprocess_c_code(file_name):\n",
        "    \"\"\"Preprocess the C file using GCC.\"\"\"\n",
        "    subprocess.run(f\"gcc -E -P {file_name} -o {preprocessed_file}\", shell=True)\n",
        "    return preprocessed_file\n",
        "\n",
        "def compile_and_measure(file_name, opt_flag):\n",
        "    \"\"\"Compile and measure execution time.\"\"\"\n",
        "    exe_file = \"/content/a.out\"\n",
        "    compile_cmd = f\"gcc {file_name} {opt_flag} -o {exe_file}\"\n",
        "    subprocess.run(compile_cmd, shell=True)\n",
        "\n",
        "    start_time = time.perf_counter()\n",
        "    subprocess.run([exe_file], shell=True)\n",
        "    end_time = time.perf_counter()\n",
        "\n",
        "    return end_time - start_time\n",
        "\n",
        "def optimize_code(file_name):\n",
        "    \"\"\"Predict the best optimization flag and compare performance.\"\"\"\n",
        "    preprocessed_file = preprocess_c_code(file_name)\n",
        "\n",
        "    with open(preprocessed_file, 'r') as f:\n",
        "        code = f.read()\n",
        "\n",
        "    features = extract_features_from_code(code)\n",
        "    predicted_opt = model.predict([features])[0]\n",
        "    print(f\"Predicted best optimization flag: {predicted_opt}\")\n",
        "\n",
        "    time_no_opt = compile_and_measure(file_name, \"-O0\")\n",
        "    time_opt = compile_and_measure(file_name, predicted_opt)\n",
        "\n",
        "    if time_no_opt and time_opt:\n",
        "        improvement = ((time_no_opt - time_opt) / time_no_opt) * 100\n",
        "        print(f\"Execution Time without Optimization: {time_no_opt:.4f}s\")\n",
        "        print(f\"Execution Time with {predicted_opt}: {time_opt:.4f}s\")\n",
        "        print(f\"Performance Improvement: {improvement:.2f}%\")\n",
        "    else:\n",
        "        print(\"Error: Could not measure execution time.\")\n",
        "\n",
        "# Write example C code in Colab\n",
        "c_code = \"\"\"#include <stdio.h>\\nint main() {\\n    printf(\\\"Hello World\\\\n\\\");\\n    return 0;\\n}\"\"\"\n",
        "with open(file_name, \"w\") as f:\n",
        "    f.write(c_code)\n",
        "\n",
        "# Run optimization\n",
        "optimize_code(file_name)\n"
      ]
    },
    {
      "cell_type": "code",
      "source": [],
      "metadata": {
        "id": "DGrdzh0946zu"
      },
      "id": "DGrdzh0946zu",
      "execution_count": null,
      "outputs": []
    }
  ],
  "metadata": {
    "kernelspec": {
      "display_name": "Python 3 (ipykernel)",
      "language": "python",
      "name": "python3"
    },
    "language_info": {
      "codemirror_mode": {
        "name": "ipython",
        "version": 3
      },
      "file_extension": ".py",
      "mimetype": "text/x-python",
      "name": "python",
      "nbconvert_exporter": "python",
      "pygments_lexer": "ipython3",
      "version": "3.12.9"
    },
    "colab": {
      "provenance": []
    }
  },
  "nbformat": 4,
  "nbformat_minor": 5
}